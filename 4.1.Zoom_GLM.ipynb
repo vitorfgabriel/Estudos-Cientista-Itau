{
 "cells": [
  {
   "cell_type": "markdown",
   "id": "7837aab2",
   "metadata": {},
   "source": [
    "# Modelos Lineares Generalizados\n",
    "\n",
    "**Referências e Leituras sugeridas:**\n",
    "\n",
    "\n",
    "- Paula, G. A. Modelos de regressão: com apoio computacional. São Paulo: IME-USP, 2024. Disponível em https://www.ime.usp.br/~giapaula/texto_2024.pdf\n",
    "\n",
    "- Dobson, A. J.; Barnett, Adrian G. (2018). An introduction to generalized linear models. CRC press.\n",
    "\n",
    "- https://www.statsmodels.org/stable/glm.html"
   ]
  },
  {
   "cell_type": "markdown",
   "id": "004d5ffd",
   "metadata": {},
   "source": [
    "Os **Modelos Lineares Generalizados (GLM)** são uma extensão elegante dos modelos de regressão linear clássicos. Eles permitem modelar situações onde a variável resposta não segue necessariamente uma distribuição normal, adaptando-se a diversos tipos de dados e relações. Vamos explorar os principais componentes e ideias por trás dos GLMs.\n",
    "\n",
    "\n",
    "Suposições do modelo linear geral:\n",
    "\n",
    "- $ E(Y_i) = \\mu_i =  X_i^\\top\\beta$\n",
    "\n",
    "- $\\epsilon_i \\stackrel{i.i.d}{\\sim} N(0, \\sigma^2)$\n",
    "\n",
    "- Consequentemente $ Y_i|X_i \\sim N(\\mu_i, \\sigma^2).$\n",
    "\n",
    "O modelo linear (normal) é muito útil, mas nem sempre as suposições estão satisfeitas. É importante ter metodologias mais adequadas, em especial, para casos em que\n",
    "\n",
    "- A variável resposta não possui distribuição Normal.\n",
    "\n",
    "- A associação entre a resposta e as preditoras não é linear.\n",
    "\n"
   ]
  },
  {
   "cell_type": "markdown",
   "id": "c7277c45",
   "metadata": {},
   "source": [
    "\n",
    "### A família exponencial de distribuições\n",
    "\n",
    "Seja $Y_i$ uma variável aleatória cuja distribuição pode ser escrita na forma\n",
    "\n",
    "\n",
    "$$\\large f(y,\\theta_i, \\phi) = exp[\\phi\\{y \\theta_i - b(\\theta_i)\\} + c(y, \\phi)]$$\n",
    "\n",
    "\n",
    "Dizemos que a distribuição de $Y_i$ pertence à família exponencial e escrevemos $$\\large Y_i \\sim FE(\\mu_i, \\phi),$$\n",
    "\n",
    "\n",
    "em que $\\mu_i = E(Y_i) = b'(\\theta_i)$ é o parâmetro de posição e $\\phi^{-1}$ o parâmetro de dispersão.\n",
    "\n",
    "\n",
    "Além disso, $Var(Y_i) = \\phi^{-1}V_i$ com $V_i = \\displaystyle\\frac{d\\mu}{d\\theta}$ a **função de variância**.\n",
    "\n",
    "\n",
    "\n",
    "Então dizemos que um MLG é determinado pela **função de ligação**\n",
    "$g(\\mu_i) = \\eta_i$ e pela **função de variância** $V(\\mu)$.\n",
    "\n",
    "\n",
    "\n",
    "Valores de $b$, $\\theta$, $\\phi$ e $V(\\mu)$ para algumas distribuições são apresentados na tabela a seguir\n",
    "\n",
    "| Distribuição | $b$ | $\\theta$ | $\\phi$ | $V(\\mu)$ |\n",
    "|--------------|-----|----------|--------|----------|\n",
    "| Normal       | $\\theta^2/2$ | $\\mu$ | $\\sigma^{-2}$ | $1$ |\n",
    "| Poisson      | $e^{\\theta}$ | $\\log \\mu$ | $1$ | $\\mu$ |\n",
    "| Binomial     | $\\log\\left(1+e^\\theta\\right)$ | $\\log\\left(\\frac{\\mu}{1-\\mu}\\right)$ | $n$ | $\\mu(1-\\mu)$ |"
   ]
  },
  {
   "cell_type": "markdown",
   "id": "3f283b12",
   "metadata": {},
   "source": [
    "## Função de ligação\n",
    "\n",
    "O modelo linear generalizado é definido por\n",
    "\n",
    "$$\\begin{array}{c}\\large Y_i \\sim FE(\\mu_i, \\phi) \\\\\\large g(\\mu_i) = \\eta_i\\end{array}$$\n",
    "\n",
    "em que\n",
    "\n",
    "- $ \\eta_i = X_i^\\top\\beta$ é o **preditor linear**,\n",
    "\n",
    "- $\\beta = (\\beta_0, \\beta_1,\\ldots, \\beta_p)^\\top$, $p<n$ é um vetor de parâmetros desconhecidos (coeficientes da regressão),\n",
    "\n",
    "- $ X_i = (1, X_{i1},\\ldots, X_{ip})^\\top$ representa os valores de $p$ variáveis preditoras e\n",
    "\n",
    "- $g(\\mu_i)$ é a **função de ligação**, uma função monótona e diferenciável.\n",
    "\n",
    "\n",
    "\n",
    "\n"
   ]
  },
  {
   "cell_type": "markdown",
   "id": "067fbe55",
   "metadata": {},
   "source": [
    "### Exemplos de modelos na família exponencial de distribuições\n",
    "\n",
    "\n",
    "#### Modelo Normal\n",
    "\n",
    "Se $Y\\sim N(\\mu, \\sigma^2)$, com densidade\n",
    "\n",
    "$$\\begin{array}{lll}f(y) &=& \\displaystyle\\frac{1}{\\sqrt{2\\pi\\sigma^2}}\\exp\\left\\{-\\frac{1}{2\\sigma^2}(y-\\mu)^2\\right\\} = \\\\ &=&\\displaystyle\\exp\\left[ \\left\\{ \\frac{1}{\\sigma^2}\\left( \\mu y - \\frac{\\mu^2}{2}\\right)  \\right\\}- \\frac{1}{2} \\left\\{ \\log 2 \\pi \\sigma^2 + \\frac{y^2}{\\sigma^2}\\right\\}\\right],\\end{array}$$\n",
    "\n",
    "em que $-\\infty < \\mu < \\infty$ e $\\sigma^2>0$.\n",
    "\n",
    "Logo, $\\theta = \\mu$, $b(\\theta) = \\theta^2/2 $, $\\phi=\\sigma^{-2}$ e $c(y, \\phi) = \\frac{1}{2} \\log(\\phi/2\\pi) - \\phi y^2/2$. Verifica-se que $V(\\mu) = 1$.\n"
   ]
  },
  {
   "cell_type": "markdown",
   "id": "bb194227",
   "metadata": {},
   "source": [
    "\n",
    "#### Modelo Poisson: para dados de contagem\n",
    "\n",
    "Se $Y\\sim P(\\mu)$, com densidade dada por\n",
    "\n",
    "$$ f(y) =P(Y=y) =   \\displaystyle\\frac{e^{-\\mu} \\mu^y}{y!} = exp(y \\log\\mu -\\mu -\\log y!), $$\n",
    "\n",
    "em que $\\mu>0$ e $y=0,1,...$\n",
    "\n",
    "Assim $\\theta = \\log\\mu$, $b(\\theta) = e^\\theta$, $\\phi=1$ e $c(y, \\phi) = -\\log y!$. Segue que $V(\\mu) = \\mu$."
   ]
  },
  {
   "cell_type": "markdown",
   "id": "84af7716",
   "metadata": {},
   "source": [
    "\n",
    "#### Modelo Binomial: para modelar proporções\n",
    "\n",
    "\n",
    "Se $Y^\\star$ é a proporção de sucessos em $n$ ensaios independentes de Bernoulli, cada um com probabilidade de sucesso $\\mu$, então $nY^\\star\\sim B(n,\\mu)$, com densidade dada por\n",
    "\n",
    "$$\\begin{array}{lll}f(y)  &=& P(Y=y) = \\left(\\begin{array}{c} n\\\\ ny^\\star\\end{array}\\right)\\mu ^{ny^\\star}(1-\\mu)^{n-ny^\\star} = \\\\ &=&\\exp\\left\\{\\log  \\left(\\begin{array}{c} n\\\\ ny^\\star\\end{array}\\right) + ny^\\star \\log\\left(\\displaystyle\\frac{\\mu}{1-\\mu} + n\\log(1-\\mu)\\right)\\right\\},\\end{array}  $$\n",
    "\n",
    "em que $\\mu>0$, $y^\\star<1$. Nesse caso, $\\phi =n$, $\\theta = \\log\\displaystyle\\left(\\frac{\\mu}{1-\\mu}\\right)$, $b(\\theta) = \\log(1+e^\\theta)$, e $c(y^\\star, \\phi) = \\log  \\left(\\begin{array}{c} \\phi\\\\ \\phi y^\\star\\end{array}\\right)$. Segue que $V(\\mu) = \\mu(1-\\mu)$.\n"
   ]
  },
  {
   "cell_type": "markdown",
   "id": "34f4eb48",
   "metadata": {},
   "source": [
    "\n",
    "### Função de ligação canônica\n",
    "\n",
    "Se $\\theta_i = \\eta_i = X_i^\\top\\beta$, então $\\eta$ é chamada de **ligação canônica**.\n",
    "\n",
    "- No modelo **normal**, a ligação canônica é $\\eta = \\mu $\n",
    "\n",
    "- No modelo **Poisson**, a ligação canônica é $\\eta = \\log\\mu$\n",
    "\n",
    "- No modelo **binomial**, a ligação canônica é $\\eta = \\log\\displaystyle\\left\\{\\frac{\\mu}{1-\\mu}\\right\\}$\n",
    "\n"
   ]
  },
  {
   "cell_type": "markdown",
   "id": "9d79489c",
   "metadata": {},
   "source": [
    "## Aplicação"
   ]
  },
  {
   "cell_type": "code",
   "execution_count": 1,
   "id": "b5a904ce",
   "metadata": {},
   "outputs": [],
   "source": [
    "import numpy as np # linear algebra\n",
    "import pandas as pd # data processing, CSV file I/O (e.g. pd.read_csv)\n",
    "import matplotlib.pyplot as plt\n",
    "from sklearn.model_selection import train_test_split\n",
    "from sklearn.metrics import accuracy_score, classification_report, confusion_matrix\n",
    "\n",
    "\n",
    "# Input data files are available in the read-only \"../input/\" directory\n",
    "# For example, running this (by clicking run or pressing Shift+Enter) will list all files under the input directory\n",
    "\n",
    "import os\n",
    "for dirname, _, filenames in os.walk('/kaggle/input'):\n",
    "    for filename in filenames:\n",
    "        print(os.path.join(dirname, filename))"
   ]
  },
  {
   "cell_type": "code",
   "execution_count": 2,
   "id": "4f06406b",
   "metadata": {},
   "outputs": [
    {
     "ename": "FileNotFoundError",
     "evalue": "[Errno 2] No such file or directory: '/kaggle/input/pokemon/Pokemon.csv'",
     "output_type": "error",
     "traceback": [
      "\u001b[1;31m---------------------------------------------------------------------------\u001b[0m",
      "\u001b[1;31mFileNotFoundError\u001b[0m                         Traceback (most recent call last)",
      "Cell \u001b[1;32mIn[2], line 1\u001b[0m\n\u001b[1;32m----> 1\u001b[0m df\u001b[38;5;241m=\u001b[39m pd\u001b[38;5;241m.\u001b[39mread_csv(\u001b[38;5;124m'\u001b[39m\u001b[38;5;124m/kaggle/input/pokemon/Pokemon.csv\u001b[39m\u001b[38;5;124m'\u001b[39m)\n\u001b[0;32m      2\u001b[0m df\u001b[38;5;241m.\u001b[39mhead()\n",
      "File \u001b[1;32mc:\\Users\\vgflg\\anaconda3\\Lib\\site-packages\\pandas\\io\\parsers\\readers.py:1026\u001b[0m, in \u001b[0;36mread_csv\u001b[1;34m(filepath_or_buffer, sep, delimiter, header, names, index_col, usecols, dtype, engine, converters, true_values, false_values, skipinitialspace, skiprows, skipfooter, nrows, na_values, keep_default_na, na_filter, verbose, skip_blank_lines, parse_dates, infer_datetime_format, keep_date_col, date_parser, date_format, dayfirst, cache_dates, iterator, chunksize, compression, thousands, decimal, lineterminator, quotechar, quoting, doublequote, escapechar, comment, encoding, encoding_errors, dialect, on_bad_lines, delim_whitespace, low_memory, memory_map, float_precision, storage_options, dtype_backend)\u001b[0m\n\u001b[0;32m   1013\u001b[0m kwds_defaults \u001b[38;5;241m=\u001b[39m _refine_defaults_read(\n\u001b[0;32m   1014\u001b[0m     dialect,\n\u001b[0;32m   1015\u001b[0m     delimiter,\n\u001b[1;32m   (...)\u001b[0m\n\u001b[0;32m   1022\u001b[0m     dtype_backend\u001b[38;5;241m=\u001b[39mdtype_backend,\n\u001b[0;32m   1023\u001b[0m )\n\u001b[0;32m   1024\u001b[0m kwds\u001b[38;5;241m.\u001b[39mupdate(kwds_defaults)\n\u001b[1;32m-> 1026\u001b[0m \u001b[38;5;28;01mreturn\u001b[39;00m _read(filepath_or_buffer, kwds)\n",
      "File \u001b[1;32mc:\\Users\\vgflg\\anaconda3\\Lib\\site-packages\\pandas\\io\\parsers\\readers.py:620\u001b[0m, in \u001b[0;36m_read\u001b[1;34m(filepath_or_buffer, kwds)\u001b[0m\n\u001b[0;32m    617\u001b[0m _validate_names(kwds\u001b[38;5;241m.\u001b[39mget(\u001b[38;5;124m\"\u001b[39m\u001b[38;5;124mnames\u001b[39m\u001b[38;5;124m\"\u001b[39m, \u001b[38;5;28;01mNone\u001b[39;00m))\n\u001b[0;32m    619\u001b[0m \u001b[38;5;66;03m# Create the parser.\u001b[39;00m\n\u001b[1;32m--> 620\u001b[0m parser \u001b[38;5;241m=\u001b[39m TextFileReader(filepath_or_buffer, \u001b[38;5;241m*\u001b[39m\u001b[38;5;241m*\u001b[39mkwds)\n\u001b[0;32m    622\u001b[0m \u001b[38;5;28;01mif\u001b[39;00m chunksize \u001b[38;5;129;01mor\u001b[39;00m iterator:\n\u001b[0;32m    623\u001b[0m     \u001b[38;5;28;01mreturn\u001b[39;00m parser\n",
      "File \u001b[1;32mc:\\Users\\vgflg\\anaconda3\\Lib\\site-packages\\pandas\\io\\parsers\\readers.py:1620\u001b[0m, in \u001b[0;36mTextFileReader.__init__\u001b[1;34m(self, f, engine, **kwds)\u001b[0m\n\u001b[0;32m   1617\u001b[0m     \u001b[38;5;28mself\u001b[39m\u001b[38;5;241m.\u001b[39moptions[\u001b[38;5;124m\"\u001b[39m\u001b[38;5;124mhas_index_names\u001b[39m\u001b[38;5;124m\"\u001b[39m] \u001b[38;5;241m=\u001b[39m kwds[\u001b[38;5;124m\"\u001b[39m\u001b[38;5;124mhas_index_names\u001b[39m\u001b[38;5;124m\"\u001b[39m]\n\u001b[0;32m   1619\u001b[0m \u001b[38;5;28mself\u001b[39m\u001b[38;5;241m.\u001b[39mhandles: IOHandles \u001b[38;5;241m|\u001b[39m \u001b[38;5;28;01mNone\u001b[39;00m \u001b[38;5;241m=\u001b[39m \u001b[38;5;28;01mNone\u001b[39;00m\n\u001b[1;32m-> 1620\u001b[0m \u001b[38;5;28mself\u001b[39m\u001b[38;5;241m.\u001b[39m_engine \u001b[38;5;241m=\u001b[39m \u001b[38;5;28mself\u001b[39m\u001b[38;5;241m.\u001b[39m_make_engine(f, \u001b[38;5;28mself\u001b[39m\u001b[38;5;241m.\u001b[39mengine)\n",
      "File \u001b[1;32mc:\\Users\\vgflg\\anaconda3\\Lib\\site-packages\\pandas\\io\\parsers\\readers.py:1880\u001b[0m, in \u001b[0;36mTextFileReader._make_engine\u001b[1;34m(self, f, engine)\u001b[0m\n\u001b[0;32m   1878\u001b[0m     \u001b[38;5;28;01mif\u001b[39;00m \u001b[38;5;124m\"\u001b[39m\u001b[38;5;124mb\u001b[39m\u001b[38;5;124m\"\u001b[39m \u001b[38;5;129;01mnot\u001b[39;00m \u001b[38;5;129;01min\u001b[39;00m mode:\n\u001b[0;32m   1879\u001b[0m         mode \u001b[38;5;241m+\u001b[39m\u001b[38;5;241m=\u001b[39m \u001b[38;5;124m\"\u001b[39m\u001b[38;5;124mb\u001b[39m\u001b[38;5;124m\"\u001b[39m\n\u001b[1;32m-> 1880\u001b[0m \u001b[38;5;28mself\u001b[39m\u001b[38;5;241m.\u001b[39mhandles \u001b[38;5;241m=\u001b[39m get_handle(\n\u001b[0;32m   1881\u001b[0m     f,\n\u001b[0;32m   1882\u001b[0m     mode,\n\u001b[0;32m   1883\u001b[0m     encoding\u001b[38;5;241m=\u001b[39m\u001b[38;5;28mself\u001b[39m\u001b[38;5;241m.\u001b[39moptions\u001b[38;5;241m.\u001b[39mget(\u001b[38;5;124m\"\u001b[39m\u001b[38;5;124mencoding\u001b[39m\u001b[38;5;124m\"\u001b[39m, \u001b[38;5;28;01mNone\u001b[39;00m),\n\u001b[0;32m   1884\u001b[0m     compression\u001b[38;5;241m=\u001b[39m\u001b[38;5;28mself\u001b[39m\u001b[38;5;241m.\u001b[39moptions\u001b[38;5;241m.\u001b[39mget(\u001b[38;5;124m\"\u001b[39m\u001b[38;5;124mcompression\u001b[39m\u001b[38;5;124m\"\u001b[39m, \u001b[38;5;28;01mNone\u001b[39;00m),\n\u001b[0;32m   1885\u001b[0m     memory_map\u001b[38;5;241m=\u001b[39m\u001b[38;5;28mself\u001b[39m\u001b[38;5;241m.\u001b[39moptions\u001b[38;5;241m.\u001b[39mget(\u001b[38;5;124m\"\u001b[39m\u001b[38;5;124mmemory_map\u001b[39m\u001b[38;5;124m\"\u001b[39m, \u001b[38;5;28;01mFalse\u001b[39;00m),\n\u001b[0;32m   1886\u001b[0m     is_text\u001b[38;5;241m=\u001b[39mis_text,\n\u001b[0;32m   1887\u001b[0m     errors\u001b[38;5;241m=\u001b[39m\u001b[38;5;28mself\u001b[39m\u001b[38;5;241m.\u001b[39moptions\u001b[38;5;241m.\u001b[39mget(\u001b[38;5;124m\"\u001b[39m\u001b[38;5;124mencoding_errors\u001b[39m\u001b[38;5;124m\"\u001b[39m, \u001b[38;5;124m\"\u001b[39m\u001b[38;5;124mstrict\u001b[39m\u001b[38;5;124m\"\u001b[39m),\n\u001b[0;32m   1888\u001b[0m     storage_options\u001b[38;5;241m=\u001b[39m\u001b[38;5;28mself\u001b[39m\u001b[38;5;241m.\u001b[39moptions\u001b[38;5;241m.\u001b[39mget(\u001b[38;5;124m\"\u001b[39m\u001b[38;5;124mstorage_options\u001b[39m\u001b[38;5;124m\"\u001b[39m, \u001b[38;5;28;01mNone\u001b[39;00m),\n\u001b[0;32m   1889\u001b[0m )\n\u001b[0;32m   1890\u001b[0m \u001b[38;5;28;01massert\u001b[39;00m \u001b[38;5;28mself\u001b[39m\u001b[38;5;241m.\u001b[39mhandles \u001b[38;5;129;01mis\u001b[39;00m \u001b[38;5;129;01mnot\u001b[39;00m \u001b[38;5;28;01mNone\u001b[39;00m\n\u001b[0;32m   1891\u001b[0m f \u001b[38;5;241m=\u001b[39m \u001b[38;5;28mself\u001b[39m\u001b[38;5;241m.\u001b[39mhandles\u001b[38;5;241m.\u001b[39mhandle\n",
      "File \u001b[1;32mc:\\Users\\vgflg\\anaconda3\\Lib\\site-packages\\pandas\\io\\common.py:873\u001b[0m, in \u001b[0;36mget_handle\u001b[1;34m(path_or_buf, mode, encoding, compression, memory_map, is_text, errors, storage_options)\u001b[0m\n\u001b[0;32m    868\u001b[0m \u001b[38;5;28;01melif\u001b[39;00m \u001b[38;5;28misinstance\u001b[39m(handle, \u001b[38;5;28mstr\u001b[39m):\n\u001b[0;32m    869\u001b[0m     \u001b[38;5;66;03m# Check whether the filename is to be opened in binary mode.\u001b[39;00m\n\u001b[0;32m    870\u001b[0m     \u001b[38;5;66;03m# Binary mode does not support 'encoding' and 'newline'.\u001b[39;00m\n\u001b[0;32m    871\u001b[0m     \u001b[38;5;28;01mif\u001b[39;00m ioargs\u001b[38;5;241m.\u001b[39mencoding \u001b[38;5;129;01mand\u001b[39;00m \u001b[38;5;124m\"\u001b[39m\u001b[38;5;124mb\u001b[39m\u001b[38;5;124m\"\u001b[39m \u001b[38;5;129;01mnot\u001b[39;00m \u001b[38;5;129;01min\u001b[39;00m ioargs\u001b[38;5;241m.\u001b[39mmode:\n\u001b[0;32m    872\u001b[0m         \u001b[38;5;66;03m# Encoding\u001b[39;00m\n\u001b[1;32m--> 873\u001b[0m         handle \u001b[38;5;241m=\u001b[39m \u001b[38;5;28mopen\u001b[39m(\n\u001b[0;32m    874\u001b[0m             handle,\n\u001b[0;32m    875\u001b[0m             ioargs\u001b[38;5;241m.\u001b[39mmode,\n\u001b[0;32m    876\u001b[0m             encoding\u001b[38;5;241m=\u001b[39mioargs\u001b[38;5;241m.\u001b[39mencoding,\n\u001b[0;32m    877\u001b[0m             errors\u001b[38;5;241m=\u001b[39merrors,\n\u001b[0;32m    878\u001b[0m             newline\u001b[38;5;241m=\u001b[39m\u001b[38;5;124m\"\u001b[39m\u001b[38;5;124m\"\u001b[39m,\n\u001b[0;32m    879\u001b[0m         )\n\u001b[0;32m    880\u001b[0m     \u001b[38;5;28;01melse\u001b[39;00m:\n\u001b[0;32m    881\u001b[0m         \u001b[38;5;66;03m# Binary mode\u001b[39;00m\n\u001b[0;32m    882\u001b[0m         handle \u001b[38;5;241m=\u001b[39m \u001b[38;5;28mopen\u001b[39m(handle, ioargs\u001b[38;5;241m.\u001b[39mmode)\n",
      "\u001b[1;31mFileNotFoundError\u001b[0m: [Errno 2] No such file or directory: '/kaggle/input/pokemon/Pokemon.csv'"
     ]
    }
   ],
   "source": [
    "df= pd.read_csv('/kaggle/input/pokemon/Pokemon.csv')\n",
    "df.head()"
   ]
  },
  {
   "cell_type": "code",
   "execution_count": null,
   "id": "14d83730",
   "metadata": {},
   "outputs": [],
   "source": []
  }
 ],
 "metadata": {
  "kernelspec": {
   "display_name": "base",
   "language": "python",
   "name": "python3"
  },
  "language_info": {
   "codemirror_mode": {
    "name": "ipython",
    "version": 3
   },
   "file_extension": ".py",
   "mimetype": "text/x-python",
   "name": "python",
   "nbconvert_exporter": "python",
   "pygments_lexer": "ipython3",
   "version": "3.12.7"
  }
 },
 "nbformat": 4,
 "nbformat_minor": 5
}
