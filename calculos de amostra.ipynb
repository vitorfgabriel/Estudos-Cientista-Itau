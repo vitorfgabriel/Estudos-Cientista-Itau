{
 "cells": [
  {
   "cell_type": "markdown",
   "metadata": {},
   "source": [
    "A função `TTestIndPower` da biblioteca `statsmodels.stats.power` é usada para calcular o poder estatístico de um teste t para duas amostras independentes. Aqui estão algumas das principais funcionalidades dessa classe:\n",
    "\n",
    "1. **Cálculo do Poder**: A função `power` calcula o poder de um teste t para duas amostras independentes, dado o tamanho do efeito, o número de observações, o nível de significância, entre outros parâmetros.\n",
    "\n",
    "2. **Resolução de Parâmetros**: A função `solve_power` permite resolver para qualquer um dos parâmetros do poder de um teste t de duas amostras, como tamanho do efeito, número de observações, nível de significância, etc.\n",
    "\n",
    "3. **Plotagem do Poder**: A função `plot_power` permite criar gráficos do poder em função do número de observações ou do tamanho do efeito.\n",
    "\n",
    "Essas funcionalidades são úteis para planejar experimentos e garantir que eles tenham poder estatístico suficiente para detectar efeitos significativos.\n",
    "\n",
    "Se precisar de mais detalhes ou exemplos de uso, estou aqui para ajudar!"
   ]
  },
  {
   "cell_type": "code",
   "execution_count": 2,
   "metadata": {},
   "outputs": [
    {
     "name": "stdout",
     "output_type": "stream",
     "text": [
      "Tamanho da amostra necessário: 1261\n"
     ]
    }
   ],
   "source": [
    "import statsmodels.stats.power as smp\n",
    "\n",
    "# Definindo os parâmetros\n",
    "effect_size = 0.01 / 0.04  # Tamanho do efeito (variação desejada / proporção esperada)\n",
    "alpha = 0.05  # Nível de significância\n",
    "power = 0.8  # Poder do teste (80%)\n",
    "\n",
    "# Criando a instância da classe TTestIndPower\n",
    "analysis = smp.TTestIndPower()\n",
    "\n",
    "# Calculando o tamanho da amostra\n",
    "sample_size = analysis.solve_power(effect_size=effect_size, alpha=alpha, power=power, alternative='two-sided')\n",
    "\n",
    "print(f'Tamanho da amostra necessário: {sample_size * 5:.0f}')"
   ]
  },
  {
   "cell_type": "markdown",
   "metadata": {},
   "source": [
    "Para determinar o tamanho da amostra ideal para seu teste, você pode usar a fórmula para calcular o tamanho da amostra para proporções. Dado que a porcentagem de clientes que atrasam é de aproximadamente 4% e você deseja que a variação não seja maior que 1%, você pode usar a seguinte fórmula:\n",
    "\n",
    "$$\n",
    "n = \\left( \\frac{Z^2 \\cdot p \\cdot (1 - p)}{E^2} \\right)\n",
    "$$\n",
    "\n",
    "Onde:\n",
    "- \\( n \\) é o tamanho da amostra.\n",
    "- \\( Z \\) é o valor z correspondente ao nível de confiança desejado (por exemplo, 1,96 para 95% de confiança).\n",
    "- \\( p \\) é a proporção esperada (0,04 no seu caso).\n",
    "- \\( E \\) é a margem de erro desejada (0,01 no seu caso).\n",
    "\n",
    "Substituindo os valores:\n",
    "\n",
    "$$\n",
    "n = \\left( \\frac{1,96^2 \\cdot 0,04 \\cdot (1 - 0,04)}{0,01^2} \\right)\n",
    "$$\n",
    "\n",
    "Calculando:\n",
    "\n",
    "$$\n",
    "n = \\left( \\frac{3,8416 \\cdot 0,04 \\cdot 0,96}{0,0001} \\right) \\approx 1475\n",
    "$$\n",
    "\n",
    "Portanto, você precisaria de uma amostra de aproximadamente 1475 clientes para garantir que a variação na porcentagem de clientes que atrasam não seja maior que 1% com um nível de confiança de 95%.\n",
    "\n",
    "Se precisar de mais ajuda com os cálculos ou tiver outras perguntas, estou aqui para ajudar!"
   ]
  },
  {
   "cell_type": "code",
   "execution_count": 5,
   "metadata": {},
   "outputs": [
    {
     "name": "stdout",
     "output_type": "stream",
     "text": [
      "O tamanho da amostra necessário é: 1476\n"
     ]
    }
   ],
   "source": [
    "import math\n",
    "\n",
    "def calcular_tamanho_amostra(Z, p, E):\n",
    "    # Calculando o tamanho da amostra\n",
    "    n = (Z**2 * p * (1 - p)) / (E**2)\n",
    "    # Arredondar para o próximo número inteiro\n",
    "    return math.ceil(n)\n",
    "\n",
    "# Parâmetros\n",
    "Z = 1.96  # Para 95% de confiança\n",
    "p = 0.04   # Proporção estimada (0.5 é o valor máximo de variabilidade)\n",
    "E = 0.01  # Margem de erro de 5%\n",
    "\n",
    "# Cálculo do tamanho da amostra\n",
    "tamanho_amostra = calcular_tamanho_amostra(Z, p, E)\n",
    "print(f'O tamanho da amostra necessário é: {tamanho_amostra}')\n"
   ]
  },
  {
   "cell_type": "markdown",
   "metadata": {},
   "source": [
    "A principal diferença entre os dois métodos está na abordagem e nos pressupostos utilizados para calcular o tamanho da amostra:\n",
    "\n",
    "1. **Cálculo de Tamanho de Amostra para Proporções**:\n",
    "   - **Abordagem**: Este método é específico para proporções e utiliza a fórmula baseada na distribuição normal para estimar o tamanho da amostra necessário para uma determinada margem de erro e nível de confiança.\n",
    "   - **Pressupostos**: Assume que a proporção da população é conhecida e que a distribuição das proporções amostrais segue uma distribuição normal.\n",
    "   - **Resultado**: O cálculo é direto e fornece um tamanho de amostra necessário para garantir que a margem de erro não exceda um valor específico (1% no seu caso).\n",
    "\n",
    "2. **TTestIndPower (Teste t para duas amostras independentes)**:\n",
    "   - **Abordagem**: Este método é mais geral e pode ser usado para comparar médias entre dois grupos. Ele calcula o tamanho da amostra necessário para detectar um efeito de uma determinada magnitude com um certo poder estatístico.\n",
    "   - **Pressupostos**: Assume que os dados seguem uma distribuição normal e que as variâncias dos dois grupos são iguais. O tamanho do efeito é definido como a diferença entre as médias dos grupos dividida pelo desvio padrão.\n",
    "   - **Resultado**: O cálculo considera o poder do teste (probabilidade de detectar um efeito real) e o nível de significância, resultando em um tamanho de amostra que pode ser maior ou menor dependendo do tamanho do efeito e do poder desejado.\n",
    "\n",
    "A diferença significativa no tamanho da amostra entre os dois métodos ocorre porque:\n",
    "- **Margem de Erro vs. Poder do Teste**: O cálculo para proporções foca na margem de erro, enquanto o `TTestIndPower` foca no poder do teste. A margem de erro é uma medida mais conservadora, resultando em tamanhos de amostra maiores para garantir precisão.\n",
    "- **Tamanho do Efeito**: No `TTestIndPower`, o tamanho do efeito é uma medida relativa (variação desejada em relação à proporção esperada), que pode resultar em tamanhos de amostra menores se o efeito for considerado pequeno.\n",
    "\n",
    "Espero que isso ajude a esclarecer as diferenças! Se precisar de mais detalhes ou tiver outras perguntas, estou aqui para ajudar."
   ]
  },
  {
   "cell_type": "markdown",
   "metadata": {},
   "source": []
  },
  {
   "cell_type": "markdown",
   "metadata": {},
   "source": [
    "Erro "
   ]
  },
  {
   "cell_type": "code",
   "execution_count": null,
   "metadata": {},
   "outputs": [],
   "source": [
    "import numpy as np\n",
    "import matplotlib.pyplot as plt\n",
    "from statsmodels.stats.proportion import proportion_confint\n",
    "\n",
    "# Definindo os parâmetros\n",
    "proportion = 0.5  # Proporção esperada\n",
    "population_size = 3360  # Tamanho da população\n",
    "confidence_level = 0.95  # Nível de confiança\n",
    "\n",
    "# Função para calcular a margem de erro para um dado tamanho de amostra\n",
    "def calculate_margin_of_error(sample_size, proportion, confidence_level):\n",
    "    lower, upper = proportion_confint(count=int(proportion * sample_size), nobs=sample_size, alpha=1-confidence_level, method='normal')\n",
    "    margin_of_error = (upper - lower) / 2\n",
    "    return margin_of_error\n",
    "\n",
    "# Tamanhos de amostra variando de 50 a 3360\n",
    "sample_sizes = np.arange(50, population_size + 1, 50)\n",
    "margins_of_error = [calculate_margin_of_error(size, proportion, confidence_level) * 100 for size in sample_sizes]\n",
    "\n",
    "# Plotando o gráfico\n",
    "plt.figure(figsize=(10, 6))\n",
    "plt.plot(sample_sizes/population_size * 100, margins_of_error, marker='o')\n",
    "plt.title('Margem de Erro para Diferentes Tamanhos de Amostra')\n",
    "plt.xlabel('Tamanho da Amostra')\n",
    "plt.ylabel('Margem de Erro')\n",
    "plt.xticks(np.arange(0,101,5))\n",
    "plt.yticks(np.arange(0,15,1))\n",
    "plt.grid(True)\n",
    "plt.show()"
   ]
  },
  {
   "cell_type": "code",
   "execution_count": null,
   "metadata": {},
   "outputs": [],
   "source": [
    "def maior_distancia(base_erro):\n",
    "    x1,y1 = min(sample_sizes/population_size * 100), base_erro[0]\n",
    "    x2,y2 = max(sample_sizes/population_size * 100), base_erro[len(base_erro)-1] \n",
    "\n",
    "    distance = []\n",
    "    for i in range(0,15,1):\n",
    "        x0 = i+2\n",
    "        y0 = base_erro[i]\n",
    "        numerator = abs((y2-y1)*x0 - (x2-x1)*y0 + x2*y1 - y2*x1)\n",
    "        denominator = np.sqrt((y2-y1)**2 + (x2 - x1)**2)\n",
    "        distance.append(numerator/denominator)\n",
    "    \n",
    "    return distance.index(np.max(distance)) "
   ]
  },
  {
   "cell_type": "code",
   "execution_count": null,
   "metadata": {},
   "outputs": [],
   "source": [
    "print(maior_distancia(margins_of_error))\n",
    "print(maior_distancia(margins_of_error) * population_size / 100)\n",
    "print(calculate_margin_of_error(maior_distancia(margins_of_error) * population_size / 100, proportion, confidence_level) * 100)"
   ]
  }
 ],
 "metadata": {
  "kernelspec": {
   "display_name": ".venv_cd",
   "language": "python",
   "name": "python3"
  },
  "language_info": {
   "codemirror_mode": {
    "name": "ipython",
    "version": 3
   },
   "file_extension": ".py",
   "mimetype": "text/x-python",
   "name": "python",
   "nbconvert_exporter": "python",
   "pygments_lexer": "ipython3",
   "version": "3.13.2"
  }
 },
 "nbformat": 4,
 "nbformat_minor": 2
}
